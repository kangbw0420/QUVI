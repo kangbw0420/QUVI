{
 "cells": [
  {
   "cell_type": "code",
   "execution_count": 1,
   "metadata": {},
   "outputs": [],
   "source": [
    "import pandas as pd\n",
    "import json\n",
    "\n",
    "# CSV 파일을 읽어옵니다\n",
    "def read_csv_file(file_path):\n",
    "    # euc-kr로 인코딩된 CSV 파일을 읽습니다\n",
    "    df = pd.read_csv(file_path, encoding='euc-kr')\n",
    "    return df\n",
    "\n",
    "# 데이터프레임의 컬럼명을 영문으로 변환합니다\n",
    "def rename_columns(df):\n",
    "    column_mapping = {\n",
    "        '은행명': 'BANK_NM',        \n",
    "        '계좌별칭': 'ACCT_DV_NM',    \n",
    "        '계좌번호': 'ACCT_NO',        \n",
    "        '계좌상태': 'ACCT_NM',      \n",
    "        '계좌잔액': 'ACCT_BAL_AMT',  \n",
    "        '인출가능잔액': 'REAL_AMT',    \n",
    "        '약정금액': 'FIXED_AMT',    \n",
    "        '예금주': 'OWNER_NM',       \n",
    "        '개설일자': 'OPEN_DATE',     \n",
    "        '만기일자': 'EXPIRE_DATE',    \n",
    "        '해지여부': 'CANCEL_YN',   \n",
    "        '해지일자': 'CANCEL_DATE'  \n",
    "    }\n",
    "    \n",
    "    df = df.rename(columns=column_mapping)\n",
    "    return df\n",
    "\n",
    "# 데이터를 원하는 JSON 형식으로 변환합니다\n",
    "def convert_to_json_format(df):\n",
    "    # 잔액이 0인 계좌는 제외\n",
    "    df = df[df['ACCT_BAL_AMT'].astype(float) > 0]\n",
    "    \n",
    "    # 필요한 컬럼만 선택\n",
    "    df = df[['REAL_AMT', 'BANK_NM', 'ACCT_BAL_AMT', 'ACCT_NO', 'ACCT_DV_NM']]\n",
    "    \n",
    "    # 데이터를 딕셔너리 형태로 변환\n",
    "    records = df.to_dict('records')\n",
    "    \n",
    "    # 최종 JSON 구조 생성\n",
    "    json_data = {\n",
    "        \"DATA_REC\": {\n",
    "            \"ACCT_REC\": records\n",
    "        }\n",
    "    }\n",
    "    \n",
    "    return json_data"
   ]
  },
  {
   "cell_type": "code",
   "execution_count": 3,
   "metadata": {},
   "outputs": [],
   "source": [
    "df = read_csv_file('수시입출.csv')\n",
    "\n",
    "# 컬럼명 변환\n",
    "df = rename_columns(df)\n",
    "\n",
    "# JSON 형식으로 변환\n",
    "json_data = convert_to_json_format(df)\n",
    "\n",
    "# JSON 파일로 저장\n",
    "with open('webcash_balance.json', 'w', encoding='utf-8') as f:\n",
    "    json.dump(json_data, f, ensure_ascii=False, indent=4)"
   ]
  },
  {
   "cell_type": "code",
   "execution_count": null,
   "metadata": {},
   "outputs": [],
   "source": []
  }
 ],
 "metadata": {
  "kernelspec": {
   "display_name": "venv",
   "language": "python",
   "name": "python3"
  },
  "language_info": {
   "codemirror_mode": {
    "name": "ipython",
    "version": 3
   },
   "file_extension": ".py",
   "mimetype": "text/x-python",
   "name": "python",
   "nbconvert_exporter": "python",
   "pygments_lexer": "ipython3",
   "version": "3.9.6"
  }
 },
 "nbformat": 4,
 "nbformat_minor": 2
}
