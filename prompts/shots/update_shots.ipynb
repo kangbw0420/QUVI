{
 "cells": [
  {
   "cell_type": "markdown",
   "metadata": {},
   "source": [
    "# 금융 데이터 Pinecone 임베딩 저장\n",
    "\n",
    "이 노트북은 금융 관련 질의-계획 데이터를 OpenAI 임베딩을 사용해 Pinecone에 저장합니다.  "
   ]
  },
  {
   "cell_type": "markdown",
   "metadata": {},
   "source": [
    "### 1.셋업"
   ]
  },
  {
   "cell_type": "code",
   "execution_count": 1,
   "metadata": {},
   "outputs": [],
   "source": [
    "import json\n",
    "from langchain_pinecone import PineconeVectorStore\n",
    "from typing import List, Dict\n",
    "from dotenv import load_dotenv\n",
    "from langchain_openai import OpenAIEmbeddings\n",
    "import os\n",
    "from langchain_core.documents import Document\n",
    "\n",
    "load_dotenv()\n",
    "\n",
    "PINECONE_API_KEY = os.getenv('PINECONE_API_KEY')\n",
    "OPENAI_API_KEY = os.getenv('OPENAI_API_KEY')\n",
    "\n",
    "options = {\n",
    "    \"planner\":{\n",
    "    \"file\":\"planner_shots.json\",\n",
    "    \"index_name\":\"aicfo-planner\",\n",
    "    \"documentKeys\":[\"task\", \"plan\"]},\n",
    "    \"trsc_nl2sql\":{\n",
    "    \"file\":\"transaction_nl2sql_shots.json\",\n",
    "    \"index_name\":\"aicfo-transaction-nl2sql\",\n",
    "    \"documentKeys\":[\"질문\", \"SQL\"]}\n",
    "}\n",
    "\n",
    "# 이 부분을 수정해 주세요.\n",
    "option = \"planner\"\n",
    "# option = \"trsc_nl2sql\"\n"
   ]
  },
  {
   "cell_type": "markdown",
   "metadata": {},
   "source": [
    "### 2.데이터 로드"
   ]
  },
  {
   "cell_type": "code",
   "execution_count": 2,
   "metadata": {},
   "outputs": [
    {
     "name": "stdout",
     "output_type": "stream",
     "text": [
      "[{'task': '고정입금내역 보여줘', 'plan': 'Plan: 최근 3개월 간의 거래 데이터를 가져옵니다. 오늘이 2024년 11월 20일이므로, 최근 3개월은 2024년 8월 20일부터 2024년 11월 19일까지입니다.\\n#E1 = load_transaction_data[\"20240820\", \"20241119\"]\\nPlan: 3개월 기준 고정 입금 내역을 검색합니다.\\n#E2 = transaction_sql[\"3개월 기준 고정입금 내역을 찾아줘\", \"#E1\"]'}, {'task': '대한전자 돈 들어왔어?', 'plan': 'Plan: 지난 1개월 간의 거래 데이터를 가져옵니다.\\n#E1 = load_transaction_data[\"20230801\",\"20230901\"]\\nPlan: 거래 데이터에서 적요가 \"대한전자\"인 것 중에 가장 최신 데이터를 가져옵니다.\\n#E2 = transaction_sql[\"적요가 대한전자인 거래 중에 가장 최신 것만 보여줘\", \"#E1\"]'}, {'task': '월평균 순현금흐름 보여줘', 'plan': 'Plan: 지난 3개월의 거래 데이터를 가져옵니다.\\n#E1 = load_transaction_data[\"20230701\",\"20230930\"]\\nPlan: 거래 데이터에서 \"월평균 순현금흐름\"을 계산합니다.\\n#E2 = transaction_sql[\"월평균 순현금흐름을 계산해줘\", \"#E1\"]'}, {'task': '24년 급여 내역 보여줘', 'plan': 'Plan: 2024년의 모든 입출금 내역을 가져옵니다.\\n#E1 = load_transaction_data[\"20240101\", \"20241231\"]\\nPlan: 적요가 급여인 거래내역을 찾습니다.\\n#E2 = transaction_sql[\"적요가 급여인 거래내역 찾아줘\", \"#E1\"]'}, {'task': '대한전자 월 입금 얼마씩 들어와?', 'plan': 'Plan: 최근 1년 간의 거래 데이터를 가져옵니다.\\n#E1 = load_transaction_data[\"20230701\",\"20240701\"]\\nPlan: 적요가 대한전자인 거래 내역들의 월별 입금 합계를 계산해줘.\\n#E2 = transaction_sql[\"적요가 대한전자인 거래 내역들의 월별 입금 합계를 계산해줘\", \"#E1\"]'}, {'task': '적요가 웹케시인 거래 내역 보여줘.', 'plan': 'Plan: 최근 1달간의 거래 데이터를 가져옵니다.\\n#E1 = load_transaction_data[\"20230701\",\"20230801\"]\\nPlan: 적요가 \\'웹케시\\'인 거래 내역을 찾습니다.\\n#E2 = transaction_sql[\"적요에 \\'웹케시\\'가 들어간 거래 내역을 찾아줘\", \"#E1\"]'}, {'task': '2024년 거래내역 총합', 'plan': 'Plan: 2024년 전체의 거래 데이터를 가져옵니다.\\n#E1 = load_transaction_data[\"20240101\", \"20241231\"]\\nPlan: 거래 내역 총합을 계산합니다.\\n#E2 = transaction_sql[\"거래 내역의 총합을 계산해줘\",\"#E1\"]'}, {'task': '웹케시에서 들어온 돈 금액과 건수는?', 'plan': 'Plan: 2024년 전체의 거래 데이터를 가져옵니다.\\n#E1 = load_transaction_data[\"20240101\", \"20241231\"]\\nPlan: 웹케시 거래 내역만 검색합니다.\\n#E2 = transaction_sql[\"거래 내역 중 적요가 웹케시인 것만 보여줘\",\"#E1\"]'}, {'task': '3주 전 주말의 거래 내역을 보여줘.', 'plan': 'Plan: 3주 전 주말의 날짜를 계산합니다. 오늘이 2024년 11월 20일이므로, 3주 전 주말은 2024년 11월 2일(토요일)과 2024년 11월 3일(일요일)입니다. 해당 일자의 거래 데이터를 가져옵니다.\\n#E1 = load_transaction_data[\"20241102\", \"20241103\"]\\nPlan: 주말 동안의 총 사용 금액을 계산하기 위해 거래 데이터를 분석합니다.\\n#E2 = transaction_sql[\"총 사용 금액을 계산해줘\", \"#E2\"]'}, {'task': '우리 회사 런웨이 얼마 남았지?', 'plan': 'Plan: 소진율을 추정하기 위해 최근 3개월 간의 거래 데이터를 가져옵니다.\\n#E1 = load_transaction_data[\"20230701\",\"20230930\"]\\nPlan: 남은 자금을 확인하기 위해 잔액 데이터를 가져옵니다.\\n#E2 = load_balnce_data[]\\nPlan: 거래 데이터에서 월평균 순현금흐름을 계산합니다.\\n#E3 = transaction_sql[\"월평균 순현금흐름 계산해줘\", \"#E1\"]\\nPlan: 잔액을 월간 순현금흐름으로 나눕니다. (이 과정에서 순현금흐름에 -1을 곱해줘서 부호를 바꿉니다.)\\n#E4 = calculate[#E2/-#E3]'}, {'task': '지난달 매출은 얼마였나요?', 'plan': 'Plan: 지난달의 모든 유입과 유출(매출 및 기타 수익 창출 거래 포함)을 파악하기 위해 금융 거래 데이터를 가져옵니다.\\n#E1 = load_transaction_data[\"20230901\", \"20230930\"]\\nPlan: 2023년 9월의 총 매출을 계산하기 위해 거래 데이터를 분석합니다. 매출로 분류된 모든 거래를 식별하고 합산합니다.\\n#E2 = transaction_sql[\"총 매출액을 계산해줘\", \"#E1\"]'}, {'task': '우리은행 잔액', 'plan': 'Plan: 은행 잔고를 전부 가져온다.\\n#E1 = load_balance_data[]\\nPlan: 우리 은행 잔고 내역만을 검색합니다.\\n#E2 = balance_sql[\"우리은행 잔액을 찾아줘\", \"#E1\"]'}, {'task': '10월의 평균 매출은 얼마인가요?', 'plan': 'Plan: 10월의 모든 거래 데이터를 가져옵니다.\\n#E1 = load_transactions_data[\"20241001\", \"20241031\"]\\nPlan: 일별 거래의 평균을 조회합니다.\\n#E2 = balance_sql[\"일평균 매출을 구해줘\", \"#E1\"]'}, {'task': '11월 거래 내역', 'plan': 'Plan: 2024년 11월의 모든 거래 데이터를 가져옵니다.\\n#E1 = load_transaction_data[\"20241101\", \"20241130\"]'}, {'task': '10월에 2번째로 큰 거래내역이 어디였어?', 'plan': 'Plan: 10월의 거래 내역을 가져옵니다.\\n#E1 = load_transaction_data[\"20241001\", \"20241031\"]\\nPlan: 그 중에서 2번째로 큰 거래 내역을 찾습니다.\\n#E2 = transaction_sql[\"2번째로 큰 거래 내역을 찾아줘\", \"#E1\"]'}, {'task': '10월 사용 총액', 'plan': 'Plan: 10월의 모든 거래 데이터를 가져옵니다.\\n#E1 = load_transaction_data[\"20241001\", \"20241031\"]\\nPlan: 총 사용 금액을 계산합니다.\\n#E2 = transaction_sql[\"총 사용 금액을 계산해줘\", \"#E1\"]'}, {'task': '국민은행 수시입출계좌 잔액 알려줘', 'plan': 'Plan: 수시입출계좌 잔액 데이터를 가져옵니다.\\n#E1 = load_balance_data[]\\nPlan: 잔액 데이터에서 \\'국민은행\\'의 잔액을 찾습니다.\\n#E2 = balance_sql[\"국민은행 잔액을 찾아줘\", \"#E1\"]'}, {'task': '수시입출계좌 잔액 알려줘', 'plan': 'Plan: 수시입출계좌의 잔액 데이터를 가져옵니다.\\n#E1 = load_balance_data[]'}, {'task': '웹케시 신한은행 수시입출계좌 계좌 잔액', 'plan': 'Plan: 수시입출계좌 잔액 데이터를 가져옵니다.\\n#E1 = load_balance_data[]\\nPlan: 잔액 데이터에서 \\'신한은행\\'의 잔액을 찾습니다.\\n#E2 = balance_sql[\"국민은행 잔액을 찾아줘\", \"#E1\"]'}, {'task': '수시입출계좌 거래내역', 'plan': 'Plan: 2024년 11월의 거래 데이터를 가져옵니다.\\n#E1 = load_transaction_data[\"20241101\", \"20241130\"]'}, {'task': '농협 2133 계좌 입출금 기록', 'plan': 'Plan: 2024년 11월의 거래 데이터를 가져옵니다.\\n#E1 = load_transaction_data[\"20241101\", \"20241130\"]\\nPlan: 농협은행 계좌 중 계좌번호 끝자리가 \\'2133\\'인 거래 내역을 찾습니다.\\n#E2 = transaction_sql[\"농협은행 계좌 중에서 계좌번호 끝이 2133인 거래 내역을 보여줘\", \"#E1\"]'}, {'task': '주요 지출 항목의 상위 5가지를 대체를 빼고 알려줘', 'plan': 'Plan: 최근 1년 간의 거래 데이터를 가져옵니다. 오늘이 2024년 12월 5일이므로, 최근 1년은 2023년 12월 5일부터 2024년 12월 4일까지입니다.\\n#E1 = load_transaction_data[\"20231205\", \"20241204\"]\\nPlan: 최근 1년 간의 거래 데이터를 기반으로, 적요에 \"대체\"가 포함되지 않은 거래를 필터링합니다.\\n#E2 = transaction_sql[\"적요에 \\'대체\\'가 포함되지 않은 거래를 필터링해줘\", \"#E1\"]\\nPlan: 필터링된 데이터를 기준으로, 적요를 기준으로 지출 항목별 합계를 계산하고 상위 5개 항목을 검색합니다.\\n#E3 = transaction_sql[\"적요를 기준으로 지출 항목별 합계를 계산하고 상위 5개 항목을 알려줘\", \"#E2\"]'}, {'task': '최근 단일 거래 중 가장 큰 지출 항목은 무엇이었지?', 'plan': 'Plan: 최근 1년 간의 거래 데이터를 가져옵니다. 오늘이 2024년 12월 5일이므로, 최근 1년은 2023년 12월 5일부터 2024년 12월 4일까지입니다.\\n#E1 = load_transaction_data[\"20231205\", \"20241204\"]\\nPlan: 단일 거래 금액이 가장 큰 지출 항목을 검색합니다.\\n#E2 = transaction_sql[\"단일 거래 금액이 가장 큰 지출 항목을 찾아줘\", \"#E2\"]'}, {'task': '최근 단일 거래 중 가장 큰 지출 항목은 무엇인지 대체를 제외하고 알려줘', 'plan': 'Plan: 최근 1년 간의 거래 데이터를 가져옵니다. 오늘이 2024년 12월 5일이므로, 최근 1년은 2023년 12월 5일부터 2024년 12월 4일까지입니다.\\n#E1 = load_transaction_data[\"20231205\", \"20241204\"]\\nPlan: 최근 1년 간의 거래 데이터를 기반으로, 적요에 \"대체\"가 포함되지 않은 거래를 필터링합니다.\\n#E2 = transaction_sql[\"적요에 \\'대체\\'가 포함되지 않은 거래를 필터링해줘\", \"#E1\"]\\nPlan: 필터링된 데이터를 기반으로, 단일 거래 금액이 가장 큰 지출 항목을 검색합니다.\\n#E3 = transaction_sql[\"단일 거래 금액이 가장 큰 지출 항목을 찾아줘\", \"#E2\"]'}, {'task': '10월 이체내역 많은 순으로 보여줘', 'plan': 'Plan: 10월 거래 데이터를 가져옵니다. 2024년 10월 1일부터 2024년 10월 31일까지입니다.\\n#E1 = load_transaction_data[\"20241001\", \"20241031\"]\\nPlan: 가져온 거래 데이터에서 출금 내역만 필터링한 후, 금액이 많은 순으로 정렬합니다.\\n#E2 = transaction_sql[\"출금 내역만 필터링하고 금액이 많은 순으로 정렬해줘\", \"#E1\"]'}, {'task': '돈 들어온거 보여줘', 'plan': 'Plan: 오늘의 거래 데이터를 가져옵니다. 오늘은 12월 5일입니다.\\n#E1 = load_transaction_data[\"20241205\"]\\nPlan: 가져온 거래 데이터에서 금액이 많은 순으로 정렬합니다.\\n#E2 = transaction_sql[\"출금 내역만 필터링하고 금액이 많은 순으로 정렬해줘\", \"#E1\"]'}, {'task': '웹케시 기업은행 통장 중 금액 많은 순으로 알려줘', 'plan': 'Plan: 현재 금융 잔액 데이터를 가져옵니다.\\n#E1 = load_balance_data[]\\nPlan: 가져온 잔액 데이터에서 기업은행 계좌만 금액이 많은 순으로 정렬합니다.\\n#E2 = balance_sql[\"기업은행 계좌만 금액이 많은 순으로 정렬해줘\", \"#E1\"]'}, {'task': '고정수입 입금내역 보여줘', 'plan': 'Plan: 최근 1년 간의 거래 데이터를 가져옵니다. 오늘이 2024년 12월 5일이므로, 최근 1년은 2023년 12월 5일부터 2024년 12월 4일까지입니다.\\n#E1 = load_transaction_data[\"20231205\", \"20241204\"]\\nPlan: 최근 1년 간의 거래 데이터를 기반으로, 고정 입금 내역을 찾습니다.\\n#E2 = transaction_sql[\"고정입금 내역을 찾아줘\", \"#E1\"]'}, {'task': '10월 웹케시 기업은행 수시입출계좌 거래내역', 'plan': 'Plan: 2024년 10월 1일부터 2024년 10월 31일까지의 거래 데이터를 가져옵니다.\\n#E1 = load_transaction_data[\"20241001\", \"20241031\"]\\nPlan: 기업은행의 계좌 거래만 필터링합니다.\\n#E2 = transaction_sql[\"기업은행의 계좌 거래만 필터링해줘\", \"#E1\"]'}, {'task': '10월 23일 출금 내역 적은 순서대로 조회', 'plan': 'Plan: 2024년 10월 23일의 거래 데이터를 가져옵니다.\\n#E1 = load_transaction_data[\"20241023\", \"20241023\"]\\nPlan: 2024년 10월 23일의 거래 데이터에서 출금 내역만 필터링한 후, 금액이 작은 순으로 정렬합니다.\\n#E2 = transaction_sql[\"출금 내역만 필터링하고 금액이 작은 순으로 정렬해줘\", \"#E1\"]'}, {'task': '수시 입출 계좌 잔액 작은 순으로 조회', 'plan': 'Plan: 현재 금융 잔액 데이터를 가져옵니다.\\n#E1 = load_balance_data[]\\nPlan: 가져온 잔액 데이터에서 잔액이 작은 순으로 정렬합니다.\\n#E2 = balance_sql[\"잔액이 작은 순으로 정렬해줘\", \"#E1\"]'}, {'task': '수시입출 계좌 잔액 작은 순으로 조회', 'plan': 'Plan: 현재 금융 잔액 데이터를 가져옵니다.\\n#E1 = load_balance_data[]\\nPlan: 가져온 잔액 데이터에서 잔액이 작은 순으로 정렬합니다.\\n#E2 = balance_sql[\"잔액이 작은 순으로 정렬해줘\", \"#E1\"]'}, {'task': '수시계좌 잔액 내림차순으로 조회', 'plan': 'Plan: 현재 금융 잔액 데이터를 가져옵니다.\\n#E1 = load_balance_data[]\\nPlan: 가져온 잔액 데이터를 내림차순으로 정렬합니다.\\n#E2 = balance_sql[\"잔액을 내림차순으로 정렬해줘\", \"#E1\"]'}, {'task': '회사의 주요 매출 거래처 5개를 리스트업해줘', 'plan': 'Plan: 최근 1년 간의 거래 데이터를 가져옵니다. 오늘이 2024년 12월 5일이므로, 최근 1년은 2023년 12월 5일부터 2024년 12월 4일까지입니다.\\n#E1 = load_transaction_data[\"20231205\", \"20241204\"]\\nPlan: 필터링된 데이터에서 매출 관련 거래를 추출하고, 거래처별 합계를 계산하여 상위 5개 거래처를 리스트업합니다.\\n#E2 = transaction_sql[\"매출 관련 거래를 추출하고 거래처별 합계를 계산해 상위 5개를 알려줘\", \"#E2\"]'}, {'task': '회사에 발생한 주요 현금 유출 항목을 모두 보여줘', 'plan': 'Plan: 최근 1년 간의 거래 데이터를 가져옵니다. 오늘이 2024년 12월 5일이므로, 최근 1년은 2023년 12월 5일부터 2024년 12월 4일까지입니다.\\n#E1 = load_transaction_data[\"20231205\", \"20241204\"]\\nPlan: 최근 1년 간의 거래 데이터에서 출금 내역을 필터링하고, 적요별로 합산해서 주요 항목 20개를 내림차순으로 정리합니다.\\n#E2 = transaction_sql[\"출금 내역을 필터링하고 적요별로 합산해서 주요 항목 20개를 내림차순으로 정리해줘\", \"#E1\"]'}, {'task': '수시거래내역 지출내역', 'plan': 'Plan: 최근 1년 간의 거래 데이터를 가져옵니다. 오늘이 2024년 12월 5일이므로, 최근 1년은 2023년 12월 5일부터 2024년 12월 4일까지입니다.\\n#E1 = load_transaction_data[\"20231205\", \"20241204\"]\\nPlan: 가져온 거래 데이터에서 출금 내역만 정리합니다.\\n#E2 = balance_sql[\"출금 내역만 보여줘\", \"#E1\"]'}, {'task': '오후 4시 이후 5천만원 이상 출금된 거래처를 알아봐', 'plan': 'Plan: 최근 1년 간의 거래 데이터를 가져옵니다. 오늘이 2024년 12월 5일이므로, 최근 1년은 2023년 12월 5일부터 2024년 12월 4일까지입니다.\\n#E1 = load_transaction_data[\"20231205\", \"20241204\"]\\nPlan: 최근 1년 간의 거래 데이터에서 오후 4시 이후에 발생한 거래 중 5천만원 이상 출금된 거래를 필터링하고, 적요에서 해당 거래처를 추출합니다.\\n#E2 = transaction_sql[\"오후 4시 이후 발생한 거래 중 5천만원 이상 출금된 거래를 필터링하고 적요에 적힌 거래처를 알려줘\", \"#E1\"]'}, {'task': '농협 1269 수시 거래', 'plan': 'Plan: 현재 잔액 데이터를 가져옵니다.\\n#E1 = load_balance_data[]\\nPlan: 계좌 끝 네 자리가 1269인 농협 계좌를 조회합니다.\\n#E2 = balance_sql[\"계좌 끝 네 자리가 1269인 농협 계좌를 조회해줘.\", \"#E1\"]'}, {'task': '2월 첫쨰 주 거래 내역을 요약해줘', 'plan': 'Plan: 2024년 2월 첫째 주(2월 1일 월요일부터 2월 4일 일요일까지)의 거래 데이터를 가져옵니다.\\n#E1 = load_transaction_data[\"20240201\", \"20240204\"]'}, {'task': '대출금 현황', 'plan': 'Plan: 현재 대출 잔액 데이터를 가져옵니다.\\n#E1 = load_loan_balance_data[]\\nPlan: 가져온 대출 잔액 데이터에서 대출금, 대출약정금, 차입금 현황을 정리합니다.\\n#E2 = loan_balance_sql[\"대출금 현황을 정리해줘\", \"#E1\"]'}, {'task': '산업은행 대출잔액', 'plan': 'Plan: 현재 대출 잔액 데이터를 가져옵니다.\\n#E1 = load_loan_balance_data[]\\nPlan: 가져온 대출 잔액 데이터에서 산업은행의 대출잔액을 정리합니다.\\n#E2 = loan_balance_sql[\"산업은행 대출잔액을 정리해줘\", \"#E1\"]'}, {'task': '1234 계좌 대출 잔액', 'plan': 'Plan: 현재 대출 잔액 데이터를 가져옵니다.\\n#E1 = load_loan_balance_data[]\\nPlan: 가져온 대출 잔액 데이터에서 1234 계좌의 대출 잔액을 정리합니다.\\n#E2 = loan_balance_sql[\"1234 계좌 대출 잔액을 정리해줘\", \"#E1\"]'}, {'task': '운영자금대출 규모 알려줘', 'plan': 'Plan: 현재 대출 잔액 데이터를 가져옵니다.\\n#E1 = load_loan_balance_data[]\\nPlan: 가져온 대출 잔액 데이터에서 loan_sbjt 필드에 \\'운영자금대출\\'이 포함된 잔액의 총 규모를 계산합니다.\\n#E2 = loan_balance_sql[\"loan_sbjt 필드에 \\'운영자금대출\\'이 포함된 잔액의 총 규모를 계산해줘\", \"#E1\"]'}, {'task': '대출금리 높은 순으로 보여줘', 'plan': 'Plan: 현재 대출 잔액 데이터를 가져옵니다.\\n#E1 = load_loan_balance_data[]\\nPlan: 가져온 대출 잔액 데이터에서 이자율을 기준으로 높은 순으로 정리합니다.\\n#E2 = loan_balance_sql[\"이자율을 높은 순으로 정리해줘\", \"#E1\"]'}, {'task': '3개월 이내에 만기 도래하는 차입금 있어', 'plan': 'Plan: 현재 대출 잔액 데이터를 가져옵니다.\\n#E1 = load_loan_balance_data[]\\nPlan: 잔액 데이터에서 due_dt 필드를 기준으로 만기 예정일이 2024년 12월 5일부터 2025년 3월 4일까지인 차입금을 정리합니다.\\n#E2 = loan_balance_sql[\"due_dt 필드에서 만기 예정일이 2024년 12월 5일부터 2025년 3월 4일까지인 차입금을 정리해줘\", \"#E1\"]'}, {'task': '대출액 만기일자 최신 순으로 조회', 'plan': 'Plan: 현재 대출 잔액 데이터를 가져옵니다.\\n#E1 = load_loan_balance_data[]\\nPlan: 대출액 데이터를 만기일자 기준으로 최신 순으로 정리합니다.\\n#E2 = loan_balance_sql[\"대출액을 만기일자 기준 최신 순으로 정리해줘\", \"#E1\"]'}, {'task': '대출 거래내역 보여줘', 'plan': 'Plan: 최근 1년 간의 대출 거래 데이터를 가져옵니다. 오늘이 2024년 12월 5일이므로, 최근 1년은 2023년 12월 5일부터 2024년 12월 4일까지입니다.\\n#E1 = load_loan_transaction_data[\"20231205\", \"20241204\"]'}, {'task': '대출 거래내역 큰 순서대로 보여줘', 'plan': 'Plan: 최근 1년 간의 대출 거래 데이터를 가져옵니다. 오늘이 2024년 12월 5일이므로, 최근 1년은 2023년 12월 5일부터 2024년 12월 4일까지입니다.\\n#E1 = load_loan_transaction_data[\"20231205\", \"20241204\"]\\nPlan: 가져온 대출 거래 데이터를 금액이 큰 순서대로 정리합니다.\\n#E2 = loan_transaction_sql[\"대출 거래 데이터를 금액이 큰 순서대로 정리해줘\", \"#E1\"]'}, {'task': '이자 내역 보여줘', 'plan': 'Plan: 최근 1년 간의 대출 거래 데이터를 가져옵니다. 오늘이 2024년 12월 5일이므로, 최근 1년은 2023년 12월 5일부터 2024년 12월 4일까지입니다.\\n#E1 = load_loan_transaction_data[\"20231205\", \"20241204\"]\\nPlan: 가져온 대출 거래 데이터에서 이자 관련 내역만 정리합니다.\\n#E2 = loan_transaction_sql[\"이자 관련 내역만 정리해줘\", \"#E1\"]'}, {'task': '올해 신규로 실행한 대출 내역 보여줘', 'plan': 'Plan: 올해(2024년 1월 1일~2024년 12월 5일) 실행된 대출 거래 데이터를 가져옵니다.\\n#E1 = load_loan_transaction_data[\"20240101\", \"20241205\"]\\nPlan: 가져온 대출 거래 데이터에서 신규로 실행된 대출 내역만 정리합니다.\\n#E2 = loan_transaction_sql[\"신규로 실행된 대출 내역만 정리해줘\", \"#E1\"]'}, {'task': '어제 잔액은?', 'plan': 'Plan: 어제 잔액을 가져옵니다. 오늘이 12월 5일이라면 어제는 12월 4일입니다.\\n#E1 = load_past_balance_data[\"20241204\"]'}]\n"
     ]
    }
   ],
   "source": [
    "def load_data(file_path: str) -> List[Dict]:\n",
    "    with open(file_path, 'r', encoding='utf-8') as f:\n",
    "        data = json.load(f)\n",
    "    return data\n",
    "\n",
    "data = load_data(options[option][\"file\"])\n",
    "print(data)"
   ]
  },
  {
   "cell_type": "markdown",
   "metadata": {},
   "source": [
    "### 3.파인콘 인덱스 및 openai embedding 가져오기"
   ]
  },
  {
   "cell_type": "code",
   "execution_count": 3,
   "metadata": {},
   "outputs": [
    {
     "name": "stderr",
     "output_type": "stream",
     "text": [
      "/var/folders/hq/90195vnj7n1gt1ymt668yjqm0000gn/T/ipykernel_8701/4075036742.py:2: LangChainDeprecationWarning: The class `OpenAIEmbeddings` was deprecated in LangChain 0.0.9 and will be removed in 1.0. An updated version of the class exists in the :class:`~langchain-openai package and should be used instead. To use it run `pip install -U :class:`~langchain-openai` and import as `from :class:`~langchain_openai import OpenAIEmbeddings``.\n",
      "  embeddings = OpenAIEmbeddings(\n"
     ]
    }
   ],
   "source": [
    "# OpenAI 임베딩 초기화\n",
    "embeddings = OpenAIEmbeddings(\n",
    "    model=\"text-embedding-3-small\",\n",
    "    openai_api_key=OPENAI_API_KEY\n",
    ")\n",
    "\n",
    "index_name = options[option][\"index_name\"]  \n",
    "\n",
    "# Pinecone init\n",
    "vectorstore = PineconeVectorStore(index_name=index_name, embedding=embeddings)"
   ]
  },
  {
   "cell_type": "markdown",
   "metadata": {},
   "source": [
    "### 4.이제 다큐먼트를 올려봅시다."
   ]
  },
  {
   "cell_type": "code",
   "execution_count": 4,
   "metadata": {},
   "outputs": [
    {
     "name": "stdout",
     "output_type": "stream",
     "text": [
      "51\n"
     ]
    }
   ],
   "source": [
    "# 텍스트와 메타데이터를 만듭니다.\n",
    "documents = []\n",
    "pageKey = options[option][\"documentKeys\"][0]\n",
    "dataKey = options[option][\"documentKeys\"][1]\n",
    "\n",
    "for item in data:\n",
    "    documents.append(Document(page_content=item[pageKey], metadata={dataKey:item[dataKey]}))\n",
    "\n",
    "\n",
    "# 벡터스토어에 저장합니다.\n",
    "vectorstore.delete(delete_all=True)\n",
    "ids = vectorstore.add_documents(\n",
    "        documents=documents\n",
    ")\n",
    "\n",
    "print(len(ids))"
   ]
  },
  {
   "cell_type": "markdown",
   "metadata": {},
   "source": [
    "### 5.테스트 쿼리 실행\n",
    "\n",
    "데이터가 제대로 저장되었는지 확인하기 위한 테스트 쿼리를 실행해봅시다."
   ]
  },
  {
   "cell_type": "code",
   "execution_count": 5,
   "metadata": {},
   "outputs": [
    {
     "name": "stdout",
     "output_type": "stream",
     "text": [
      "<langchain_pinecone.vectorstores.PineconeVectorStore object at 0x107c98b50>\n",
      "[]\n"
     ]
    }
   ],
   "source": [
    "results = vectorstore.similarity_search(\n",
    "    \"대출 잔액\",\n",
    "    k=2\n",
    ")\n",
    "print(vectorstore)\n",
    "print(results)\n",
    "for res in results:\n",
    "    print(f\"* {res.page_content} [{res.metadata}]\")"
   ]
  },
  {
   "cell_type": "code",
   "execution_count": null,
   "metadata": {},
   "outputs": [],
   "source": []
  }
 ],
 "metadata": {
  "kernelspec": {
   "display_name": "venv",
   "language": "python",
   "name": "python3"
  },
  "language_info": {
   "codemirror_mode": {
    "name": "ipython",
    "version": 3
   },
   "file_extension": ".py",
   "mimetype": "text/x-python",
   "name": "python",
   "nbconvert_exporter": "python",
   "pygments_lexer": "ipython3",
   "version": "3.9.6"
  }
 },
 "nbformat": 4,
 "nbformat_minor": 2
}
